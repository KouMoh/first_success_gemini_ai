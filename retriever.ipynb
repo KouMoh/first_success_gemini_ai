{
 "cells": [
  {
   "cell_type": "code",
   "execution_count": 3,
   "metadata": {},
   "outputs": [],
   "source": [
    "# Run this cell and paste the API key in the prompt\n",
    "import os\n",
    "import getpass\n",
    "\n",
    "os.environ['GOOGLE_API_KEY'] = getpass.getpass('Gemini API Key:')"
   ]
  },
  {
   "cell_type": "code",
   "execution_count": 5,
   "metadata": {},
   "outputs": [
    {
     "name": "stderr",
     "output_type": "stream",
     "text": [
      "USER_AGENT environment variable not set, consider setting it to identify your requests.\n"
     ]
    }
   ],
   "source": [
    "\n",
    "from langchain import PromptTemplate\n",
    "from langchain import hub\n",
    "from langchain.docstore.document import Document\n",
    "from langchain.document_loaders import WebBaseLoader\n",
    "from langchain.schema import StrOutputParser\n",
    "from langchain.schema.prompt_template import format_document\n",
    "from langchain.schema.runnable import RunnablePassthrough\n",
    "from langchain.vectorstores import Chroma\n"
   ]
  },
  {
   "cell_type": "code",
   "execution_count": 60,
   "metadata": {},
   "outputs": [
    {
     "data": {
      "text/plain": [
       "Document(metadata={'source': 'https://www.eea.europa.eu/en/topics/in-depth/plastics', 'title': \"Plastics | European Environment Agency's home page\", 'description': 'Plastics are everywhere — from food packaging to healthcare, construction materials, furniture and textiles. They are, unfortunately, also bad for the environment. They are not only polluting the seas and land, but also contributing to climate change and air emissions.', 'language': 'en'}, page_content=\"\\nPlastics | European Environment Agency's home pageSkip to main contentSkip to navigationSkip to footerAn official website of the European Union | How do you know?All official European Union website addresses are in the europa.eu domain.See all EU institutions and bodiesEnvironmental information systemsEuropean Environment Agency websiteWISE marine - Marine information system for EuropeWISE freshwater - Freshwater information system for EuropeBISE - Biodiversity information system for EuropeFISE - Forest information system for EuropeEuropean Climate and health observatoryClimateADAPTEuropean Industrial Emissions PortalClimate and energy in the EUCopernicus Land Monitoring ServiceCopernicus InSituTopicsAnalysis and dataCountriesNewsroomAbout usTopicsIn-depth topicsPlasticsPlasticsModified 28 Aug 2024ImageMarco Antonini, Well with Nature/EEASharePlastics are everywhere — from food packaging to healthcare, construction materials, furniture and textiles. They are, unfortunately, also bad for the environment. They are not only polluting the seas and land, but also contributing to climate change and air emissions.1Overview2Key facts3EU actionPlastic is a relatively new invention in human history with some of the first examples dating back to the late 1800s, but its versatility and low production cost have made it one of the most widely used materials of modern times. In western Europe, the average annual plastic consumption is around 150kg per person — more than twice the global average of 60kg. \\rGlobal consumption of plastic is accelerating. Over half of the plastic production ever manufactured has been produced since 2000  and we are set so double our current global annual production by 2050. Only about an estimated 9% of the plastics ever produced have been recycled and 12% have been incinerated. The remainder is either still in use or has either been disposed of in landfills or released into the environment, including the oceans. \\rA report by the World Economic Forum and the Ellen MacArthur Foundation showed that if we do not act on the plastic problem, there will be more plastic by mass than fish in the oceans by 2050.\\rThe durability of plastics means that discarded items remain in the environment for generations. Environmental impacts from discarded plastics include littering, leaching of toxic components, and the contamination of ecosystems and the food chain with microplastics — which can end up eventually in humans with unknown health effects.\\rBesides polluting the environment, plastic production contributes to climate change: annual emissions related to plastic production in the EU amount to around 13.4 million tonnes of CO2, or about 20% of the chemicals industry’s emissions in the European Union. In Europe, plastic is used mostly (about 74%) for non-packaging purposes, like in construction, furniture, textiles and consumer electronics. \\rIn the 1950s,  global production of plastic was about two million tons. In 2020, it was around 450 million tons. 85% of marine litter from land-based sources is plastic. This is a big problem because of plastic’s impact on marine life and human health via the food chain. Ingestion of plastics by marine species is widespread in European seas. For example, 93% of fulmar birds assessed in the North-East Atlantic Ocean had ingested some plastic and 85% of turtles assessed in the Mediterranean Sea had ingested litter.\\rAbout 8% of European microplastics released to oceans are from synthetic textiles — globally, this figure is estimated at 16-35%. Between 200,000 and 500,000 tonnes of microplastics from textiles enter the global marine environment each year.\\rPlastic production in Europe alone amounted to 57.2 Mt in 2021.Post-consumer recycled plastics and bio-based/bio-attributed plastics respectively accounted for 10.1% and 2.3% of the European plastics production, according to Plastics Europe. The EU is taking action to tackle plastic pollution and marine litter and to accelerate the transition to a circular and resource-efficient plastics economy. Specific rules, targets and guidelines apply to certain areas, including single-use plastics, plastic packaging, microplastics, and bio-based, biodegradable and compostable plastics.\\rThe EU’s plastics strategy, as part of the circular economy action plan, outlines specific actions in more detail.\\rHowever, estimates show that a significant fraction of Europe’s total plastic consumption — non-packaging plastics — is somewhat outside this policy focus and at risk of being overlooked in Europe’s transformation towards a more circular economy. \\rEU’s Zero Pollution Action Plan includes, as one of its main targets, reducing plastic litter at sea (by 50%) and microplastics released into the environment (by 30%).  See the EU policies we supportPress releases and articlesPublic exposure to widely used Bisphenol A exceeds acceptable health safety levelsSee allPublicationsHuman exposure to Bisphenol A in EuropeFrom source to sea — The untold story of marine litterPlastics, the circular economy and Europe’s environmentManaging non-packaging plastics in European waste streamsImpacts of Covid-19 on single-use plastic in Europe’s environmentBiodegradable and compostable plastics – challenges and opportunities See allIndicatorsSee allMaps and chartsNearly 40 percent of plastic demand comes from the production of plastic packagingSee allFrequently asked questionsHow can I help tackle marine litter?New EEA monitoring tool reviews progress on plastics circularityEvidence relating to the circular economy is fragmented or only partially covered through data and knowledge but is needed to assess the state of circularity. The Circularity Metrics Lab complements other circularity monitoring frameworks by presenting ‘additional’ evidence on circularity.The CML plastics module provides metrics that do not necessarily have the benefits of broad geographical coverage or long time series and provide room for more ‘experimental’ data sources.A key purpose for CML plastics is to present a diverse group of metrics to reveal the status and trends for the circular plastics economy in Europe. Visit EEA’s Circularity Metrics Lab thematic module on plasticsCesare Barillà, ZeroWaste PIX / EEA Roberto Melotti, Well with Nature/EEAMarine litter: the majority is plasticLand-based sources account for 80% of marine litter and approximately 85% of it is plastic. This is a big problem because of plastic’s impact on marine life and human health via the food chain. The persistent nature of plastic means that it can last up to 500 years in some cases.\\xa0Plastic packaging and small plastic items comprise nearly 80% of plastic waste and are a common sight on European beaches. Although the amount of waste continues to increase, current waste management capacity is limited. Most plastic items that are used and thrown away are either recycled, incinerated or properly stored in waste facilities. However, a mismanaged part of that waste continues to find its way to our seas and pollute them.\\xa0Read more in our report on marine litterHow does plastic impact human health?Our growing exposure to plastics and the chemicals they contain can put human health at risk. The annual intake of microplastics by humans has been estimated to range from\\xa070,000 to over 120,000 particles. Most of these particles are inhaled through air; food and drink constitute the second largest source. People who predominantly drink bottled water may ingest an additional 90,000 microplastic particles a year. Human exposure to microplastics through drinking water is assumed to be low in Europe, but there is not enough evidence to confirm this.Our zero pollution monitoring assessment takes a look at how our increasing use of plastics creates more pollution, which impacts both ecosystem and human health in one of its cross-cutting stories.Read more on the cross-cutting story on plasticsNick Russill on UnsplashMicroplastics from textiles: towards a circular economy for textiles in EuropeRead our briefing on microplastics from textilesImagePhoto by Alexander Grey on Unsplash Tai's Captures on UnsplashEuropeans, exposed to bisphenol A above\\xa0health safety levelsPopulation exposure to the synthetic chemical Bisphenol A (BPA), which is used in everything from plastic and metal food containers to reusable water bottles and drinking water pipes in Europe is well above acceptable health safety levels, according to updated research data. This poses a potential health risk to millions of people.\\rData collected from an EU human biomonitoring study found that up to 100% of the people taking part from 11 EU countries were likely exposed to the chemical above safe health thresholds.\\r More about human exposure to bisphenol A in EuropeHow to move towards sustainable plastics?Circular and sustainability practices throughout the lifecycle of plastics can help reduce greenhouse gas emissions, pollution and waste. Many such good practice examples already exist and would need to be scaled up to enable a circular plastics economy in Europe.Our briefing 'Pathways towards circular plastics in Europe' aims to\\xa0inspire businesses, policymakers and citizens\\xa0to\\xa0make the production and consumption of plastics more\\xa0circular and\\xa0sustainable.\\xa0The\\xa0briefing is based on an\\xa0underpinning technical\\xa0report\\xa0by the EEA’s European Topic Centre on Circular Economy\\xa0and Resource Use.More in EEA briefing on plasticsJacek Dylag on UnsplashMore informationOther topics you might be interested in:Buildings and constructionChemicalsCircular economyEconomy and resourcesProduction and consumptionResource use and materialsTextilesWaste and recyclingExternal links:EU plastics strategyCircular economy action planZero pollution action planAbout usFAQsCareersContact usSign up to our newsletterExplore our environmental information systemsPrivacy statementAccessibilityLegal noticeSitemapSystem statusLogintop\\n\")"
      ]
     },
     "execution_count": 60,
     "metadata": {},
     "output_type": "execute_result"
    }
   ],
   "source": [
    "loader = WebBaseLoader(\"https://www.eea.europa.eu/en/topics/in-depth/plastics\")\n",
    "docs = loader.load()\n",
    "\n",
    "docs[0]"
   ]
  },
  {
   "cell_type": "code",
   "execution_count": 61,
   "metadata": {},
   "outputs": [
    {
     "name": "stdout",
     "output_type": "stream",
     "text": [
      "page_content='\n",
      " More about human exposure to bisphenol A in EuropeHow to move towards sustainable plastics?Circular and sustainability practices throughout the lifecycle of plastics can help reduce greenhouse gas emissions, pollution and waste. Many such good practice examples already exist and would need to be scaled up to enable a circular plastics economy in Europe.Our briefing 'Pathways towards circular plastics in Europe' aims to inspire businesses, policymakers and citizens to make the production and consumption of plastics more circular and sustainable. The briefing is based on an underpinning technical report by the EEA’s European Topic Centre on Circular Economy and Resource Use.More in EEA briefing on plasticsJacek Dylag on UnsplashMore informationOther topics you might be interested in:Buildings and constructionChemicalsCircular economyEconomy and resourcesProduction and consumptionResource use and materialsTextilesWaste and recyclingExternal links:EU plastics strategyCircular economy action planZero pollution action planAbout usFAQsCareersContact usSign up to our newsletterExplore our environmental information systemsPrivacy statementAccessibilityLegal noticeSitemapSystem statusLogintopcularity.The CML plastics module provides metrics that do not necessarily have the benefits of broad geographical coverage or long time series and provide room for more ‘experimental’ data sources.A key purpose for CML plastics is to present a diverse group of metrics to reveal the status and trends for the circular plastics economy in Europe. Visit EEA’s Circularity Metrics Lab thematic module on plasticsCesare Barillà, ZeroWaste PIX / EEA Roberto Melotti, Well with Nature/EEAMarine litter: the majority is plasticLand-based sources account for 80% of marine litter and approximately 85% of it is plastic. This is a big problem because of plastic’s impact on marine life and human health via the food chain. The persistent nature of plastic means that it can last up to 500 years in some cases. Plastic packaging and small plastic items comprise nearly 80% of plastic waste and are a common sight on European beaches. Although the amount of waste continues to increase, current waste management capacity is limited. Most plastic items that are used and thrown away are either recycled, incinerated or properly stored in waste facilities. However, a mismanaged part of that waste continues to find its way to our seas and pollute them. Read more in our report on marine litterHow does plastic impact human health?Our growing exposure to plastics and the chemicals they contain can put human health at risk. The annual intake of microplastics by humans has been estimated to range from 70,000 to over 120,000 particles. Most of these particles are inhaled through air; food and drink constitute the second largest source. People who predominantly drink bottled water may ingest an additional 90,000 microplastic particles a year. Human exposure to microplastics through drinking water is assumed to be low in Europe, but there is not enough evidence to confirm this.Our zero pollution monitoring assessment takes a look at how our increasing use of plastics creates more pollution, which impacts both ecosystem and human health in one of its cross-cutting stories.Read more on the cross-cutting story on plasticsNick Russill on UnsplashMicroplastics from textiles: towards a circular economy for textiles in EuropeRead our briefing on microplastics from textilesImagePhoto by Alexander Grey on Unsplash Tai's Captures on UnsplashEuropeans, exposed to bisphenol A above health safety levelsPopulation exposure to the synthetic chemical Bisphenol A (BPA), which is used in everything from plastic and metal food containers to reusable water bottles and drinking water pipes in Europe is well above acceptable health safety levels, according to updated research data. This poses a potential health risk to millions of people.\n",
      "' metadata={'source': 'https://www.eea.europa.eu/en/topics/in-depth/plastics', 'title': \"Plastics | European Environment Agency's home page\", 'description': 'Plastics are everywhere — from food packaging to healthcare, construction materials, furniture and textiles. They are, unfortunately, also bad for the environment. They are not only polluting the seas and land, but also contributing to climate change and air emissions.', 'language': 'en'}\n"
     ]
    }
   ],
   "source": [
    "print(docs[0])"
   ]
  },
  {
   "cell_type": "code",
   "execution_count": 62,
   "metadata": {},
   "outputs": [
    {
     "name": "stdout",
     "output_type": "stream",
     "text": [
      "\n",
      " More about human exposure to bisphenol A in EuropeHow to move towards sustainable plastics?Circular and sustainability practices throughout the lifecycle of plastics can help reduce greenhouse gas emissions, pollution and waste. Many such good practice examples already exist and would need to be scaled up to enable a circular plastics economy in Europe.Our briefing 'Pathways towards circular plastics in Europe' aims to inspire businesses, policymakers and citizens to make the production and consumption of plastics more circular and sustainable. The briefing is based on an underpinning technical report by the EEA’s European Topic Centre on Circular Economy and Resource Use.More in EEA briefing on plasticsJacek Dylag on UnsplashMore informationOther topics you might be interested in:Buildings and constructionChemicalsCircular economyEconomy and resourcesProduction and consumptionResource use and materialsTextilesWaste and recyclingExternal links:EU plastics strategyCircular economy action planZero pollution action planAbout usFAQsCareersContact usSign up to our newsletterExplore our environmental information systemsPrivacy statementAccessibilityLegal noticeSitemapSystem statusLogintopcularity.The CML plastics module provides metrics that do not necessarily have the benefits of broad geographical coverage or long time series and provide room for more ‘experimental’ data sources.A key purpose for CML plastics is to present a diverse group of metrics to reveal the status and trends for the circular plastics economy in Europe. Visit EEA’s Circularity Metrics Lab thematic module on plasticsCesare Barillà, ZeroWaste PIX / EEA Roberto Melotti, Well with Nature/EEAMarine litter: the majority is plasticLand-based sources account for 80% of marine litter and approximately 85% of it is plastic. This is a big problem because of plastic’s impact on marine life and human health via the food chain. The persistent nature of plastic means that it can last up to 500 years in some cases. Plastic packaging and small plastic items comprise nearly 80% of plastic waste and are a common sight on European beaches. Although the amount of waste continues to increase, current waste management capacity is limited. Most plastic items that are used and thrown away are either recycled, incinerated or properly stored in waste facilities. However, a mismanaged part of that waste continues to find its way to our seas and pollute them. Read more in our report on marine litterHow does plastic impact human health?Our growing exposure to plastics and the chemicals they contain can put human health at risk. The annual intake of microplastics by humans has been estimated to range from 70,000 to over 120,000 particles. Most of these particles are inhaled through air; food and drink constitute the second largest source. People who predominantly drink bottled water may ingest an additional 90,000 microplastic particles a year. Human exposure to microplastics through drinking water is assumed to be low in Europe, but there is not enough evidence to confirm this.Our zero pollution monitoring assessment takes a look at how our increasing use of plastics creates more pollution, which impacts both ecosystem and human health in one of its cross-cutting stories.Read more on the cross-cutting story on plasticsNick Russill on UnsplashMicroplastics from textiles: towards a circular economy for textiles in EuropeRead our briefing on microplastics from textilesImagePhoto by Alexander Grey on Unsplash Tai's Captures on UnsplashEuropeans, exposed to bisphenol A above health safety levelsPopulation exposure to the synthetic chemical Bisphenol A (BPA), which is used in everything from plastic and metal food containers to reusable water bottles and drinking water pipes in Europe is well above acceptable health safety levels, according to updated research data. This poses a potential health risk to millions of people.\n",
      "\n"
     ]
    }
   ],
   "source": [
    "# Extract the text from the website data document\n",
    "text_content = docs[0].page_content\n",
    "\n",
    "# The text content between the substrings \"code, audio, image and video.\" to\n",
    "# \"Cloud TPU v5p\" is relevant for this tutorial. You can use Python's `split()`\n",
    "# to select the required content.\n",
    "# text_content_1 = text_content.split(\"Hirakud.\",1)[1]\n",
    "# final_text = text_content_1.split(\"Powerhouses\",1)[0]\n",
    "\n",
    "# Convert the text to LangChain's `Document` format\n",
    "docs =  [Document(page_content=text_content, metadata={\"source\": \"local\"})]\n",
    "\n",
    "print(text_content)"
   ]
  },
  {
   "cell_type": "code",
   "execution_count": 63,
   "metadata": {},
   "outputs": [],
   "source": [
    "from langchain_google_genai import GoogleGenerativeAIEmbeddings\n",
    "\n",
    "# If there is no environment variable set for the API key, you can pass the API\n",
    "# key to the parameter `google_api_key` of the `GoogleGenerativeAIEmbeddings`\n",
    "# function: `google_api_key = \"key\"`.\n",
    "\n",
    "gemini_embeddings = GoogleGenerativeAIEmbeddings(model=\"models/embedding-001\")\n",
    "     "
   ]
  },
  {
   "cell_type": "code",
   "execution_count": 64,
   "metadata": {},
   "outputs": [],
   "source": [
    "\n",
    "# Save to disk\n",
    "vectorstore = Chroma.from_documents(\n",
    "                     documents=docs,                 # Data\n",
    "                     embedding=gemini_embeddings,    # Embedding model\n",
    "                     persist_directory=\"./chroma_db\" # Directory to save data\n",
    "                     )"
   ]
  },
  {
   "cell_type": "code",
   "execution_count": 65,
   "metadata": {},
   "outputs": [
    {
     "name": "stdout",
     "output_type": "stream",
     "text": [
      "1\n"
     ]
    }
   ],
   "source": [
    "# Load from disk\n",
    "vectorstore_disk = Chroma(\n",
    "                        persist_directory=\"./chroma_db\",       # Directory of db\n",
    "                        embedding_function=gemini_embeddings   # Embedding model\n",
    "                   )\n",
    "# Get the Retriever interface for the store to use later.\n",
    "# When an unstructured query is given to a retriever it will return documents.\n",
    "# Read more about retrievers in the following link.\n",
    "# https://python.langchain.com/docs/modules/data_connection/retrievers/\n",
    "#\n",
    "# Since only 1 document is stored in the Chroma vector store, search_kwargs `k`\n",
    "# is set to 1 to decrease the `k` value of chroma's similarity search from 4 to\n",
    "# 1. If you don't pass this value, you will get a warning.\n",
    "retriever = vectorstore_disk.as_retriever(search_kwargs={\"k\": 1})\n",
    "\n",
    "# Check if the retriever is working by trying to fetch the relevant docs related\n",
    "# to the word 'MMLU' (Massive Multitask Language Understanding). If the length is greater than zero, it means that\n",
    "# the retriever is functioning well.\n",
    "print(len(retriever.get_relevant_documents(\"Hirakud\")))"
   ]
  },
  {
   "cell_type": "code",
   "execution_count": 66,
   "metadata": {},
   "outputs": [],
   "source": [
    "from langchain_google_genai import ChatGoogleGenerativeAI\n",
    "\n",
    "# If there is no environment variable set for the API key, you can pass the API\n",
    "# key to the parameter `google_api_key` of the `ChatGoogleGenerativeAI` function:\n",
    "# `google_api_key=\"key\"`.\n",
    "llm = ChatGoogleGenerativeAI(model=\"gemini-pro\",\n",
    "                 temperature=0.7, top_p=0.85)\n",
    "     "
   ]
  },
  {
   "cell_type": "code",
   "execution_count": 67,
   "metadata": {},
   "outputs": [
    {
     "name": "stdout",
     "output_type": "stream",
     "text": [
      "input_variables=['context', 'question'] template=\"You are an assistant for question-answering tasks.\\nUse the following context to answer the question.\\nIf you don't know the answer, just say that you don't know.\\nUse five sentences maximum and keep the answer concise.\\n\\nQuestion: {question} \\nContext: {context} \\nAnswer:\"\n"
     ]
    }
   ],
   "source": [
    "# Prompt template to query Gemini\n",
    "llm_prompt_template = \"\"\"You are an assistant for question-answering tasks.\n",
    "Use the following context to answer the question.\n",
    "If you don't know the answer, just say that you don't know.\n",
    "Use five sentences maximum and keep the answer concise.\\n\n",
    "Question: {question} \\nContext: {context} \\nAnswer:\"\"\"\n",
    "\n",
    "llm_prompt = PromptTemplate.from_template(llm_prompt_template)\n",
    "\n",
    "print(llm_prompt)"
   ]
  },
  {
   "cell_type": "code",
   "execution_count": 68,
   "metadata": {},
   "outputs": [],
   "source": [
    "# Combine data from documents to readable string format.\n",
    "def format_docs(docs):\n",
    "    return \"\\n\\n\".join(doc.page_content for doc in docs)\n",
    "\n",
    "# Create stuff documents chain using LCEL.\n",
    "#\n",
    "# This is called a chain because you are chaining together different elements\n",
    "# with the LLM. In the following example, to create the stuff chain, you will\n",
    "# combine the relevant context from the website data matching the question, the\n",
    "# LLM model, and the output parser together like a chain using LCEL.\n",
    "#\n",
    "# The chain implements the following pipeline:\n",
    "# 1. Extract the website data relevant to the question from the Chroma\n",
    "#    vector store and save it to the variable `context`.\n",
    "# 2. `RunnablePassthrough` option to provide `question` when invoking\n",
    "#    the chain.\n",
    "# 3. The `context` and `question` are then passed to the prompt where they\n",
    "#    are populated in the respective variables.\n",
    "# 4. This prompt is then passed to the LLM (`gemini-pro`).\n",
    "# 5. Output from the LLM is passed through an output parser\n",
    "#    to structure the model's response.\n",
    "rag_chain = (\n",
    "    {\"context\": retriever | format_docs, \"question\": RunnablePassthrough()}\n",
    "    | llm_prompt\n",
    "    | llm\n",
    "    | StrOutputParser()\n",
    ")\n",
    "  "
   ]
  },
  {
   "cell_type": "code",
   "execution_count": 15,
   "metadata": {},
   "outputs": [
    {
     "data": {
      "text/plain": [
       "\"Gemini is Google's largest and most capable AI model. It is designed to be natively multimodal, pre-trained from the start on different modalities. Gemini 1.0 was trained to recognize and understand text, images, audio and more at the same time. It can also understand, explain and generate high-quality code in the world’s most popular programming languages. Gemini is also our most flexible model yet — able to efficiently run on everything from data centers to mobile devices.\""
      ]
     },
     "execution_count": 15,
     "metadata": {},
     "output_type": "execute_result"
    }
   ],
   "source": [
    "rag_chain.invoke(\"What is Gemini?\")"
   ]
  },
  {
   "cell_type": "code",
   "execution_count": 19,
   "metadata": {},
   "outputs": [
    {
     "data": {
      "text/plain": [
       "\"I am Gemini, Google's largest and most capable AI model. I am able to efficiently run on everything from data centers to mobile devices. My state-of-the-art capabilities will significantly enhance the way developers and enterprise customers build and scale with AI.\""
      ]
     },
     "execution_count": 19,
     "metadata": {},
     "output_type": "execute_result"
    }
   ],
   "source": [
    "rag_chain.invoke(\"What are u?\")"
   ]
  },
  {
   "cell_type": "code",
   "execution_count": 30,
   "metadata": {},
   "outputs": [
    {
     "data": {
      "text/plain": [
       "\"The provided text introduces Gemini, Google's largest and most capable AI model to date. Gemini is designed to be natively multimodal, pre-trained from the start on different modalities, and fine-tuned with additional multimodal data. It has sophisticated multimodal reasoning capabilities and can understand and reason about all kinds of inputs from the ground up. Gemini excels in several coding benchmarks, including HumanEval and Natural2Code, and can be used as the engine for more advanced coding systems like AlphaCode 2. Gemini is trained at scale on Google's AI-optimized infrastructure using Tensor Processing Units (TPUs) v4 and v5e, and is designed to be reliable, scalable, and efficient.\""
      ]
     },
     "execution_count": 30,
     "metadata": {},
     "output_type": "execute_result"
    }
   ],
   "source": [
    "rag_chain.invoke(\"What does the provided text say?\")"
   ]
  },
  {
   "cell_type": "code",
   "execution_count": 54,
   "metadata": {},
   "outputs": [
    {
     "data": {
      "text/plain": [
       "'Hirakud Dam is a man-made structure of earth, concrete, and masonry, and the longest major earthen dam in the world, measuring 25.8 km (16.0 mi) including dykes, and stands across the river Mahanadi.'"
      ]
     },
     "execution_count": 54,
     "metadata": {},
     "output_type": "execute_result"
    }
   ],
   "source": [
    "rag_chain.invoke(\"What is Hirakud?\")"
   ]
  },
  {
   "cell_type": "code",
   "execution_count": 71,
   "metadata": {},
   "outputs": [
    {
     "data": {
      "text/plain": [
       "'Plastic is a relatively new invention in human history with some of the first examples dating back to the late 1800s. It is a versatile and low-cost material, which has made it one of the most widely used materials of modern times. Plastic is used in a wide variety of applications, including food packaging, healthcare, construction materials, furniture, and textiles.'"
      ]
     },
     "execution_count": 71,
     "metadata": {},
     "output_type": "execute_result"
    }
   ],
   "source": [
    "rag_chain.invoke(\"What is a plastic?\")"
   ]
  },
  {
   "cell_type": "code",
   "execution_count": null,
   "metadata": {},
   "outputs": [],
   "source": []
  }
 ],
 "metadata": {
  "kernelspec": {
   "display_name": "venv",
   "language": "python",
   "name": "python3"
  },
  "language_info": {
   "codemirror_mode": {
    "name": "ipython",
    "version": 3
   },
   "file_extension": ".py",
   "mimetype": "text/x-python",
   "name": "python",
   "nbconvert_exporter": "python",
   "pygments_lexer": "ipython3",
   "version": "3.11.9"
  }
 },
 "nbformat": 4,
 "nbformat_minor": 2
}
